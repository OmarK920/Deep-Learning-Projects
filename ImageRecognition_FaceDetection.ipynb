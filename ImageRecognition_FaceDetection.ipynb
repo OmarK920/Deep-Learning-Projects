{
  "cells": [
    {
      "cell_type": "markdown",
      "metadata": {
        "id": "view-in-github",
        "colab_type": "text"
      },
      "source": [
        "<a href=\"https://colab.research.google.com/github/OmarK920/Deep-Learning-Projects/blob/main/ImageRecognition_FaceDetection.ipynb\" target=\"_parent\"><img src=\"https://colab.research.google.com/assets/colab-badge.svg\" alt=\"Open In Colab\"/></a>"
      ]
    },
    {
      "cell_type": "markdown",
      "source": [
        "# Trainig SVC"
      ],
      "metadata": {
        "id": "MXRRr3ddhVJr"
      }
    },
    {
      "cell_type": "code",
      "source": [
        "import io\n",
        "import cv2\n",
        "import zipfile\n",
        "import numpy as np\n",
        "import pandas as pd\n",
        "from PIL import Image\n",
        "from sklearn.model_selection import train_test_split\n",
        "from sklearn.svm import SVC\n",
        "from sklearn.metrics import accuracy_score, classification_report, confusion_matrix\n",
        "from sklearn.preprocessing import LabelEncoder, StandardScaler\n",
        "from skimage.feature import hog\n",
        "\n",
        "face_cascade = cv2.CascadeClassifier(cv2.data.haarcascades + 'haarcascade_frontalface_default.xml')\n",
        "new_width, new_height = 350, 300\n",
        "\n",
        "with zipfile.ZipFile('img.zip') as zf:\n",
        "    filenames = zf.namelist()\n",
        "    images = []\n",
        "    for filename in filenames:\n",
        "        with zf.open(filename) as f:\n",
        "            img_bytes = io.BytesIO(f.read())\n",
        "            image = Image.open(img_bytes)\n",
        "            image = image.resize((new_width, new_height))\n",
        "            img_array = np.array(image)\n",
        "            image = Image.fromarray(img_array)\n",
        "            images.append(image)\n",
        "\n",
        "labels = [\"huss\", \"huss\", \"huss\", \"huss\", \"nour\", \"nour\", \"nour\", \"nour\", \"omar\", \"omar\", \"omar\", \"omar\"]\n",
        "data = {\"label\": labels, \"image\": images}\n",
        "df = pd.DataFrame(data)\n",
        "\n",
        "images = []\n",
        "labels = []\n",
        "\n",
        "for index, row in df.iterrows():\n",
        "    image = row['image']\n",
        "    images.append(image)\n",
        "\n",
        "X = np.empty((0, 315000))\n",
        "for image in images:\n",
        "    image_array = np.array(image).flatten()\n",
        "    X = np.vstack([X, image_array])\n",
        "\n",
        "for index, row in df.iterrows():\n",
        "    label = row['label']\n",
        "    labels.append(label)\n",
        "\n",
        "y = np.array(labels)\n",
        "\n",
        "label_encoder = LabelEncoder()\n",
        "y = label_encoder.fit_transform(y)\n",
        "\n",
        "X_train, X_test, y_train, y_test = train_test_split(X, y, test_size=0.2, random_state=42)\n",
        "\n",
        "scaler = StandardScaler()\n",
        "X_train = scaler.fit_transform(X_train)\n",
        "X_test = scaler.transform(X_test)\n",
        "\n",
        "svm = SVC(kernel='sigmoid', random_state=42)\n",
        "svm.fit(X_train, y_train)\n",
        "\n",
        "y_pred = svm.predict(X_test)\n",
        "accuracy = accuracy_score(y_test, y_pred)\n",
        "classification_report = classification_report(y_test, y_pred)\n",
        "confusion_mat = confusion_matrix(y_test, y_pred)\n",
        "\n",
        "print(\"Accuracy:\", accuracy)\n",
        "print(\"Classification Report:\\n\", classification_report)\n",
        "print(\"Confusion Matrix:\\n\", confusion_mat)\n"
      ],
      "metadata": {
        "colab": {
          "base_uri": "https://localhost:8080/"
        },
        "id": "ESCvpe2ghO2Z",
        "outputId": "91d172c0-b534-47cd-d78a-47cc4caf4d27"
      },
      "execution_count": null,
      "outputs": [
        {
          "output_type": "stream",
          "name": "stdout",
          "text": [
            "Accuracy: 1.0\n",
            "Classification Report:\n",
            "               precision    recall  f1-score   support\n",
            "\n",
            "           0       1.00      1.00      1.00         1\n",
            "           2       1.00      1.00      1.00         2\n",
            "\n",
            "    accuracy                           1.00         3\n",
            "   macro avg       1.00      1.00      1.00         3\n",
            "weighted avg       1.00      1.00      1.00         3\n",
            "\n",
            "Confusion Matrix:\n",
            " [[1 0]\n",
            " [0 2]]\n"
          ]
        }
      ]
    },
    {
      "cell_type": "markdown",
      "source": [
        "# Using HOG with SVC"
      ],
      "metadata": {
        "id": "yKWEoK4cdvX5"
      }
    },
    {
      "cell_type": "code",
      "source": [
        "import numpy as np\n",
        "from skimage.feature import hog\n",
        "from sklearn.model_selection import train_test_split\n",
        "from sklearn.preprocessing import StandardScaler\n",
        "from sklearn.svm import SVC\n",
        "from sklearn.metrics import accuracy_score\n",
        "\n",
        "# Extract HOG features from images\n",
        "def extract_hog_features(images):\n",
        "    hog_features = []\n",
        "    for image in images:\n",
        "        # Convert image to grayscale if necessary\n",
        "        if len(image.shape) > 2:\n",
        "            image = np.mean(image, axis=2)\n",
        "        # Extract HOG features\n",
        "        hog_feature = hog(image, orientations=9, pixels_per_cell=(8, 8), cells_per_block=(2, 2))\n",
        "        hog_features.append(hog_feature)\n",
        "    return np.array(hog_features)\n",
        "\n",
        "# Prepare your data (replace with your own data)\n",
        "labels = [\"huss\", \"huss\", \"huss\", \"huss\", \"nour\", \"nour\", \"nour\", \"nour\", \"omar\", \"omar\", \"omar\", \"omar\"]\n",
        "data = {\"label\": labels, \"image\": images}\n",
        "df = pd.DataFrame(data)\n",
        "\n",
        "# Convert images to NumPy arrays\n",
        "images = np.array([np.array(img) for img in df[\"image\"]], dtype=object)\n",
        "\n",
        "# Extract HOG features\n",
        "X_hog = extract_hog_features(images)\n",
        "\n",
        "# Split the dataset into training and testing sets\n",
        "X_train, X_test, y_train, y_test = train_test_split(X_hog, labels, test_size=0.2, random_state=42)\n",
        "\n",
        "# Scale the features\n",
        "scaler = StandardScaler()\n",
        "X_train = scaler.fit_transform(X_train)\n",
        "X_test = scaler.transform(X_test)\n",
        "\n",
        "# Train an SVM model\n",
        "svm = SVC(kernel='linear', random_state=42)\n",
        "svm.fit(X_train, y_train)\n",
        "\n",
        "# Predict labels for test data\n",
        "y_pred = svm.predict(X_test)\n",
        "\n",
        "# Calculate accuracy\n",
        "accuracy = accuracy_score(y_test, y_pred)\n",
        "\n",
        "# Print accuracy\n",
        "print(\"Accuracy:\", accuracy)\n"
      ],
      "metadata": {
        "colab": {
          "base_uri": "https://localhost:8080/"
        },
        "id": "RAFR_R4xU9j5",
        "outputId": "eba1c67d-030d-4d42-81ec-3d78ec84de08"
      },
      "execution_count": null,
      "outputs": [
        {
          "output_type": "stream",
          "name": "stdout",
          "text": [
            "Accuracy: 1.0\n"
          ]
        }
      ]
    },
    {
      "cell_type": "markdown",
      "source": [
        "# Training CNN"
      ],
      "metadata": {
        "id": "lO2Ow4Fbd2Wp"
      }
    },
    {
      "cell_type": "code",
      "source": [
        "from sklearn.preprocessing import LabelEncoder\n",
        "import tensorflow as tf\n",
        "from tensorflow.keras import layers\n",
        "import numpy as np\n",
        "from skimage.feature import hog\n",
        "\n",
        "\n",
        "\n",
        "# Define the CNN model architecture\n",
        "model = tf.keras.Sequential()\n",
        "model.add(layers.Conv2D(32, (3, 3), activation='relu', input_shape=(new_height, new_width, 3)))\n",
        "model.add(layers.MaxPooling2D((2, 2)))\n",
        "model.add(layers.Flatten())\n",
        "model.add(layers.Dense(64, activation='relu'))\n",
        "model.add(layers.Dense(3 , activation='softmax'))\n",
        "\n",
        "# Compile the model\n",
        "model.compile(optimizer='adam',\n",
        "              loss=tf.keras.losses.SparseCategoricalCrossentropy(from_logits=True),\n",
        "              metrics=['accuracy'])\n",
        "\n",
        "labels = [\"huss\", \"huss\", \"huss\", \"huss\", \"nour\", \"nour\", \"nour\", \"nour\", \"omar\", \"omar\", \"omar\", \"omar\"]\n",
        "data = {\"label\": labels, \"image\": images}\n",
        "df = pd.DataFrame(data)\n",
        "\n",
        "images = []\n",
        "labels = []\n",
        "\n",
        "for index, row in df.iterrows():\n",
        "    image = row['image']\n",
        "    images.append(image)\n",
        "\n",
        "for index, row in df.iterrows():\n",
        "    label = row['label']\n",
        "    labels.append(label)\n",
        "\n",
        "# Convert the images and labels to NumPy arrays\n",
        "X = np.stack(images)\n",
        "y = np.array(labels)\n",
        "\n",
        "\n",
        "# Normalize pixel values (assuming pixel range 0-255)\n",
        "X = X / 255.0\n",
        "\n",
        "# Split the dataset into training and testing sets\n",
        "X_train, X_test, y_train, y_test = train_test_split(X, y, test_size=0.2, random_state=42)\n",
        "\n",
        "# Convert labels to integers\n",
        "label_encoder = LabelEncoder()\n",
        "y_train = label_encoder.fit_transform(y_train)\n",
        "y_test = label_encoder.transform(y_test)\n",
        "\n",
        "# Train the model\n",
        "model.fit(X_train, y_train, epochs=10, validation_data=(X_test, y_test))\n",
        "\n",
        "# Evaluate the model on the test set\n",
        "loss, accuracy = model.evaluate(X_test, y_test)\n",
        "print(\"Test Loss:\", loss)\n",
        "print(\"Test Accuracy:\", accuracy)\n",
        "\n",
        "\n",
        "\n",
        "\n",
        "\n"
      ],
      "metadata": {
        "colab": {
          "base_uri": "https://localhost:8080/"
        },
        "id": "yPV4g8xRJb0R",
        "outputId": "665cb6c5-d31f-4aab-aa49-99e33e333f7b"
      },
      "execution_count": null,
      "outputs": [
        {
          "output_type": "stream",
          "name": "stdout",
          "text": [
            "Epoch 1/10\n"
          ]
        },
        {
          "output_type": "stream",
          "name": "stderr",
          "text": [
            "/usr/local/lib/python3.10/dist-packages/keras/backend.py:5612: UserWarning: \"`sparse_categorical_crossentropy` received `from_logits=True`, but the `output` argument was produced by a Softmax activation and thus does not represent logits. Was this intended?\n",
            "  output, from_logits = _get_logits(\n"
          ]
        },
        {
          "output_type": "stream",
          "name": "stdout",
          "text": [
            "1/1 [==============================] - 3s 3s/step - loss: 1.1427 - accuracy: 0.1111 - val_loss: 100.2899 - val_accuracy: 0.0000e+00\n",
            "Epoch 2/10\n",
            "1/1 [==============================] - 2s 2s/step - loss: 37.4026 - accuracy: 0.4444 - val_loss: 0.0000e+00 - val_accuracy: 1.0000\n",
            "Epoch 3/10\n",
            "1/1 [==============================] - 2s 2s/step - loss: 0.0000e+00 - accuracy: 1.0000 - val_loss: 0.0000e+00 - val_accuracy: 1.0000\n",
            "Epoch 4/10\n",
            "1/1 [==============================] - 2s 2s/step - loss: 10.1390 - accuracy: 0.5556 - val_loss: 0.0000e+00 - val_accuracy: 1.0000\n",
            "Epoch 5/10\n",
            "1/1 [==============================] - 2s 2s/step - loss: 7.5937 - accuracy: 0.5556 - val_loss: 0.0000e+00 - val_accuracy: 1.0000\n",
            "Epoch 6/10\n",
            "1/1 [==============================] - 2s 2s/step - loss: 0.0000e+00 - accuracy: 1.0000 - val_loss: 2.2326 - val_accuracy: 0.3333\n",
            "Epoch 7/10\n",
            "1/1 [==============================] - 2s 2s/step - loss: 0.5089 - accuracy: 0.8889 - val_loss: 19.7571 - val_accuracy: 0.3333\n",
            "Epoch 8/10\n",
            "1/1 [==============================] - 2s 2s/step - loss: 4.8543 - accuracy: 0.7778 - val_loss: 3.6566 - val_accuracy: 0.3333\n",
            "Epoch 9/10\n",
            "1/1 [==============================] - 3s 3s/step - loss: 0.7465 - accuracy: 0.8889 - val_loss: 0.0000e+00 - val_accuracy: 1.0000\n",
            "Epoch 10/10\n",
            "1/1 [==============================] - 2s 2s/step - loss: 0.0000e+00 - accuracy: 1.0000 - val_loss: 1.1921e-07 - val_accuracy: 1.0000\n",
            "1/1 [==============================] - 0s 140ms/step - loss: 1.1921e-07 - accuracy: 1.0000\n",
            "Test Loss: 1.1920926823449918e-07\n",
            "Test Accuracy: 1.0\n"
          ]
        }
      ]
    },
    {
      "cell_type": "markdown",
      "source": [
        "## CNN with HOG"
      ],
      "metadata": {
        "id": "WxOwzRb6hELN"
      }
    },
    {
      "cell_type": "code",
      "source": [
        "from sklearn.preprocessing import LabelEncoder\n",
        "import tensorflow as tf\n",
        "from tensorflow.keras import layers\n",
        "import numpy as np\n",
        "import pandas as pd\n",
        "from skimage.feature import hog\n",
        "from sklearn.model_selection import train_test_split\n",
        "\n",
        "# Function to extract HOG features\n",
        "def extract_hog_features(images):\n",
        "    hog_features = []\n",
        "    for image in images:\n",
        "        hog_feature = hog(image, orientations=9, pixels_per_cell=(8, 8), cells_per_block=(2, 2), channel_axis=-1)\n",
        "        hog_features.append(hog_feature)\n",
        "    return np.array(hog_features)\n",
        "\n",
        "# Define the CNN model architecture\n",
        "model = tf.keras.Sequential()\n",
        "model.add(layers.Dense(64, activation='relu', input_shape=(54432,)))  # Adjust the input shape based on the HOG feature length\n",
        "model.add(layers.Dense(3, activation='softmax'))\n",
        "\n",
        "# Compile the model\n",
        "model.compile(optimizer='adam',\n",
        "              loss=tf.keras.losses.SparseCategoricalCrossentropy(from_logits=True),\n",
        "              metrics=['accuracy'])\n",
        "\n",
        "labels = [\"huss\", \"huss\", \"huss\", \"huss\", \"nour\", \"nour\", \"nour\", \"nour\", \"omar\", \"omar\", \"omar\", \"omar\"]\n",
        "data = {\"label\": labels, \"image\": images}\n",
        "df = pd.DataFrame(data)\n",
        "\n",
        "images = []\n",
        "labels = []\n",
        "\n",
        "for index, row in df.iterrows():\n",
        "    image = row['image']\n",
        "    images.append(image)\n",
        "\n",
        "for index, row in df.iterrows():\n",
        "    label = row['label']\n",
        "    labels.append(label)\n",
        "\n",
        "# Convert the images and labels to NumPy arrays\n",
        "X = np.stack(images)\n",
        "y = np.array(labels)\n",
        "\n",
        "# Normalize pixel values (assuming pixel range 0-255)\n",
        "X = X / 255.0\n",
        "\n",
        "# Extract HOG features\n",
        "hog_features = extract_hog_features(X)\n",
        "\n",
        "# Split the dataset into training and testing sets\n",
        "X_train, X_test, y_train, y_test = train_test_split(hog_features, y, test_size=0.2, random_state=42)\n",
        "\n",
        "# Convert labels to integers\n",
        "label_encoder = LabelEncoder()\n",
        "y_train = label_encoder.fit_transform(y_train)\n",
        "y_test = label_encoder.transform(y_test)\n",
        "\n",
        "# Train the model\n",
        "model.fit(X_train, y_train, epochs=10, validation_data=(X_test, y_test))\n",
        "\n",
        "# Evaluate the model on the test set\n",
        "loss, accuracy = model.evaluate(X_test, y_test)\n",
        "print(\"Test Loss:\", loss)\n",
        "print(\"Test Accuracy:\", accuracy)\n"
      ],
      "metadata": {
        "colab": {
          "base_uri": "https://localhost:8080/"
        },
        "id": "OdS9q49NQrC8",
        "outputId": "4de555b2-0c6a-495f-a674-a0f20901911e"
      },
      "execution_count": null,
      "outputs": [
        {
          "output_type": "stream",
          "name": "stdout",
          "text": [
            "Epoch 1/10\n"
          ]
        },
        {
          "output_type": "stream",
          "name": "stderr",
          "text": [
            "/usr/local/lib/python3.10/dist-packages/keras/backend.py:5612: UserWarning: \"`sparse_categorical_crossentropy` received `from_logits=True`, but the `output` argument was produced by a Softmax activation and thus does not represent logits. Was this intended?\n",
            "  output, from_logits = _get_logits(\n"
          ]
        },
        {
          "output_type": "stream",
          "name": "stdout",
          "text": [
            "1/1 [==============================] - 1s 770ms/step - loss: 1.1532 - accuracy: 0.2222 - val_loss: 10.6158 - val_accuracy: 0.3333\n",
            "Epoch 2/10\n",
            "1/1 [==============================] - 0s 86ms/step - loss: 3.3954 - accuracy: 0.7778 - val_loss: 5.6495 - val_accuracy: 0.3333\n",
            "Epoch 3/10\n",
            "1/1 [==============================] - 0s 93ms/step - loss: 2.2122 - accuracy: 0.5556 - val_loss: 0.1222 - val_accuracy: 1.0000\n",
            "Epoch 4/10\n",
            "1/1 [==============================] - 0s 88ms/step - loss: 0.0216 - accuracy: 1.0000 - val_loss: 0.4857 - val_accuracy: 0.6667\n",
            "Epoch 5/10\n",
            "1/1 [==============================] - 0s 74ms/step - loss: 0.0452 - accuracy: 1.0000 - val_loss: 1.0699 - val_accuracy: 0.6667\n",
            "Epoch 6/10\n",
            "1/1 [==============================] - 0s 91ms/step - loss: 0.2115 - accuracy: 0.8889 - val_loss: 0.4896 - val_accuracy: 0.6667\n",
            "Epoch 7/10\n",
            "1/1 [==============================] - 0s 78ms/step - loss: 0.0342 - accuracy: 1.0000 - val_loss: 0.0816 - val_accuracy: 1.0000\n",
            "Epoch 8/10\n",
            "1/1 [==============================] - 0s 74ms/step - loss: 0.0024 - accuracy: 1.0000 - val_loss: 0.0104 - val_accuracy: 1.0000\n",
            "Epoch 9/10\n",
            "1/1 [==============================] - 0s 72ms/step - loss: 4.1586e-04 - accuracy: 1.0000 - val_loss: 0.0022 - val_accuracy: 1.0000\n",
            "Epoch 10/10\n",
            "1/1 [==============================] - 0s 83ms/step - loss: 1.9693e-04 - accuracy: 1.0000 - val_loss: 9.3961e-04 - val_accuracy: 1.0000\n",
            "1/1 [==============================] - 0s 31ms/step - loss: 9.3961e-04 - accuracy: 1.0000\n",
            "Test Loss: 0.0009396083769388497\n",
            "Test Accuracy: 1.0\n"
          ]
        }
      ]
    },
    {
      "cell_type": "code",
      "source": [
        "import numpy as np\n",
        "import torch\n",
        "import torch.nn as nn\n",
        "import torch.optim as optim\n",
        "from torch.utils.data import Dataset, DataLoader\n",
        "from sklearn.model_selection import train_test_split\n",
        "from sklearn.preprocessing import LabelEncoder\n",
        "\n",
        "# Define the CNN model\n",
        "class SimpleCNN(nn.Module):\n",
        "    def __init__(self):\n",
        "        super(SimpleCNN, self).__init__()\n",
        "        self.conv1 = nn.Conv2d(3, 16, kernel_size=3, stride=1, padding=1)\n",
        "        self.relu1 = nn.ReLU()\n",
        "        self.pool = nn.MaxPool2d(kernel_size=2)\n",
        "        self.fc = nn.Linear(16 * 87 * 75, 3)\n",
        "\n",
        "    def forward(self, x):\n",
        "        x = self.conv1(x)\n",
        "        x = self.relu1(x)\n",
        "        x = self.pool(x)\n",
        "        x = x.view(x.size(0), -1)\n",
        "        x = self.fc(x)\n",
        "        return x\n",
        "\n",
        "# Convert labels to a 1D array\n",
        "label_encoder = LabelEncoder()\n",
        "y = label_encoder.fit_transform(df['label'])\n",
        "\n",
        "# Split the dataset into training and testing sets\n",
        "X_train, X_test, y_train, y_test = train_test_split(df['image'], y, test_size=0.2, random_state=42)\n",
        "\n",
        "# Define a custom dataset\n",
        "class CustomDataset(Dataset):\n",
        "    def __init__(self, images, labels):\n",
        "        self.images = images\n",
        "        self.labels = labels\n",
        "\n",
        "    def __len__(self):\n",
        "        return len(self.images)\n",
        "\n",
        "    def __getitem__(self, idx):\n",
        "        image = self.images[idx]\n",
        "        label = self.labels[idx]\n",
        "        return image, label\n",
        "\n",
        "# Create custom datasets and data loaders\n",
        "train_dataset = CustomDataset(X_train, y_train)\n",
        "test_dataset = CustomDataset(X_test, y_test)\n",
        "\n",
        "train_loader = DataLoader(train_dataset, batch_size=32, shuffle=True)\n",
        "test_loader = DataLoader(test_dataset, batch_size=32)\n",
        "\n",
        "# Create an instance of the CNN model\n",
        "model = SimpleCNN()\n",
        "\n",
        "# Define the loss function and optimizer\n",
        "criterion = nn.CrossEntropyLoss()\n",
        "optimizer = optim.Adam(model.parameters(), lr=0.001)\n",
        "\n",
        "# Training loop\n",
        "num_epochs = 10\n",
        "device = torch.device('cuda' if torch.cuda.is_available() else 'cpu')\n",
        "model.to(device)\n",
        "\n",
        "for epoch in range(num_epochs):\n",
        "    running_loss = 0.0\n",
        "    for images, labels in train_loader:\n",
        "        images = images.to(device)\n",
        "        labels = labels.to(device)\n",
        "\n",
        "        optimizer.zero_grad()\n",
        "\n",
        "        outputs = model(images)\n",
        "        loss = criterion(outputs, labels)\n",
        "        loss.backward()\n",
        "        optimizer.step()\n",
        "\n",
        "        running_loss += loss.item()\n",
        "\n",
        "    print(f\"Epoch {epoch + 1} - Loss: {running_loss / len(train_loader)}\")\n",
        "\n",
        "# Evaluation\n",
        "model.eval()\n",
        "total_correct = 0\n",
        "total_samples = 0\n",
        "\n",
        "with torch.no_grad():\n",
        "    for images, labels in test_loader:\n",
        "        images = images.to(device)\n",
        "        labels = labels.to(device)\n",
        "\n",
        "        outputs = model(images)\n",
        "        _, predicted = torch.max(outputs.data, 1)\n",
        "\n",
        "        total_samples += labels.size(0)\n",
        "        total_correct += (predicted == labels).sum().item()\n",
        "\n",
        "accuracy = total_correct / total_samples\n",
        "print(\"Accuracy:\", accuracy)\n"
      ],
      "metadata": {
        "id": "kxWh53rtVGPX"
      },
      "execution_count": null,
      "outputs": []
    }
  ],
  "metadata": {
    "kernelspec": {
      "display_name": "Python 3",
      "language": "python",
      "name": "python3"
    },
    "language_info": {
      "codemirror_mode": {
        "name": "ipython",
        "version": 3
      },
      "file_extension": ".py",
      "mimetype": "text/x-python",
      "name": "python",
      "nbconvert_exporter": "python",
      "pygments_lexer": "ipython3",
      "version": "3.11.2"
    },
    "orig_nbformat": 4,
    "colab": {
      "provenance": [],
      "include_colab_link": true
    }
  },
  "nbformat": 4,
  "nbformat_minor": 0
}