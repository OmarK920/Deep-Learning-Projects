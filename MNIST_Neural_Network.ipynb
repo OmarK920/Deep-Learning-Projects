{
  "nbformat": 4,
  "nbformat_minor": 0,
  "metadata": {
    "colab": {
      "provenance": [],
      "authorship_tag": "ABX9TyP6GUuY6lz60ObOh1H3/RsW",
      "include_colab_link": true
    },
    "kernelspec": {
      "name": "python3",
      "display_name": "Python 3"
    },
    "language_info": {
      "name": "python"
    }
  },
  "cells": [
    {
      "cell_type": "markdown",
      "metadata": {
        "id": "view-in-github",
        "colab_type": "text"
      },
      "source": [
        "<a href=\"https://colab.research.google.com/github/OmarK920/Deep-Learning-Projects/blob/main/MNIST_Neural_Network.ipynb\" target=\"_parent\"><img src=\"https://colab.research.google.com/assets/colab-badge.svg\" alt=\"Open In Colab\"/></a>"
      ]
    },
    {
      "cell_type": "markdown",
      "source": [
        "**In this simple project i have used the famous MINST dataset to classify numbers from 0 to 10 using neural netwroks**"
      ],
      "metadata": {
        "id": "6sMTcbK-wVbc"
      }
    },
    {
      "cell_type": "code",
      "execution_count": 1,
      "metadata": {
        "id": "6btFj_FUXv8o"
      },
      "outputs": [],
      "source": [
        "import tensorflow as tf\n",
        "from tensorflow import keras\n",
        "import matplotlib.pyplot as plt\n",
        "%matplotlib inline\n",
        "import numpy as np"
      ]
    },
    {
      "cell_type": "code",
      "source": [
        "#here i loaded the dataset automatically\n",
        "(X_train, y_train) , (X_test, y_test) = keras.datasets.mnist.load_data()\n"
      ],
      "metadata": {
        "colab": {
          "base_uri": "https://localhost:8080/"
        },
        "id": "u264gAARX4ey",
        "outputId": "69dc0231-9289-42a3-c67f-8df903dac1fd"
      },
      "execution_count": 2,
      "outputs": [
        {
          "output_type": "stream",
          "name": "stdout",
          "text": [
            "Downloading data from https://storage.googleapis.com/tensorflow/tf-keras-datasets/mnist.npz\n",
            "11490434/11490434 [==============================] - 0s 0us/step\n"
          ]
        }
      ]
    },
    {
      "cell_type": "code",
      "source": [
        "#you must flatten so it get transformed from 2-D to 1-d array by which neural network can use \n",
        "X_train_flattened = X_train.reshape(len(X_train), 28*28)\n",
        "X_test_flattened = X_test.reshape(len(X_test), 28*28)"
      ],
      "metadata": {
        "id": "Gpcv7IHoYNau"
      },
      "execution_count": 3,
      "outputs": []
    },
    {
      "cell_type": "markdown",
      "source": [
        "In neural networks, an epoch refers to a single pass through the entire training dataset during the training process. During each epoch, the model is presented with the training data, and its parameters are updated based on the prediction errors it makes. The number of epochs specified in the training process determines how many times the model will be trained on the entire training dataset.\n",
        "\n",
        "For example, if you specify that you want to train the model for 10 epochs, then the model will be trained on the training data 10 times, each time seeing the entire training dataset.\n",
        "\n",
        "In general, more epochs can lead to better model performance, but at the cost of longer training time and the risk of overfitting. Overfitting occurs when the model is trained for too many epochs and starts to memorize the training data instead of learning the underlying patterns in the data."
      ],
      "metadata": {
        "id": "cGbkYhrbnQ-t"
      }
    },
    {
      "cell_type": "code",
      "source": [
        "#here i built my neural network , metrics[accuracy] will show you the accuracy of your model \n",
        "#when you fit your model , you are traning it \n",
        "\n",
        "model_1 = keras.Sequential([\n",
        "    keras.layers.Dense(units = 50 , activation = 'relu'),\n",
        "    keras.layers.Dense(units = 25 , activation = 'relu'),\n",
        "    keras.layers.Dense(units = 10 , activation = 'softmax'),\n",
        "\n",
        "])\n",
        "\n",
        "model_1.compile( loss='sparse_categorical_crossentropy',optimizer = 'adam' , metrics =['accuracy'])\n",
        "\n",
        "model_1.fit(X_train_flattened, y_train, epochs=10)\n",
        "\n",
        "\n"
      ],
      "metadata": {
        "colab": {
          "base_uri": "https://localhost:8080/"
        },
        "id": "dDShtZq1e9P2",
        "outputId": "ca21a007-2919-4b7c-bf9f-049432662f80"
      },
      "execution_count": 5,
      "outputs": [
        {
          "output_type": "stream",
          "name": "stdout",
          "text": [
            "Epoch 1/10\n",
            "1875/1875 [==============================] - 6s 3ms/step - loss: 1.6495 - accuracy: 0.7902\n",
            "Epoch 2/10\n",
            "1875/1875 [==============================] - 5s 3ms/step - loss: 0.3746 - accuracy: 0.9010\n",
            "Epoch 3/10\n",
            "1875/1875 [==============================] - 7s 4ms/step - loss: 0.2866 - accuracy: 0.9208\n",
            "Epoch 4/10\n",
            "1875/1875 [==============================] - 5s 3ms/step - loss: 0.2315 - accuracy: 0.9344\n",
            "Epoch 5/10\n",
            "1875/1875 [==============================] - 5s 3ms/step - loss: 0.2012 - accuracy: 0.9432\n",
            "Epoch 6/10\n",
            "1875/1875 [==============================] - 6s 3ms/step - loss: 0.1797 - accuracy: 0.9474\n",
            "Epoch 7/10\n",
            "1875/1875 [==============================] - 5s 3ms/step - loss: 0.1589 - accuracy: 0.9535\n",
            "Epoch 8/10\n",
            "1875/1875 [==============================] - 6s 3ms/step - loss: 0.1474 - accuracy: 0.9572\n",
            "Epoch 9/10\n",
            "1875/1875 [==============================] - 5s 2ms/step - loss: 0.1339 - accuracy: 0.9606\n",
            "Epoch 10/10\n",
            "1875/1875 [==============================] - 5s 3ms/step - loss: 0.1295 - accuracy: 0.9625\n"
          ]
        },
        {
          "output_type": "execute_result",
          "data": {
            "text/plain": [
              "<keras.callbacks.History at 0x7fca8a444850>"
            ]
          },
          "metadata": {},
          "execution_count": 5
        }
      ]
    },
    {
      "cell_type": "code",
      "source": [
        "model_1.evaluate(X_test_flattened , y_test)"
      ],
      "metadata": {
        "colab": {
          "base_uri": "https://localhost:8080/"
        },
        "id": "bhfLUSE1sh3M",
        "outputId": "9ae892c1-e27a-44cb-f9f7-93f49dba3bdd"
      },
      "execution_count": 12,
      "outputs": [
        {
          "output_type": "stream",
          "name": "stdout",
          "text": [
            "313/313 [==============================] - 1s 2ms/step - loss: 0.1943 - accuracy: 0.9533\n"
          ]
        },
        {
          "output_type": "execute_result",
          "data": {
            "text/plain": [
              "[0.19431428611278534, 0.9532999992370605]"
            ]
          },
          "metadata": {},
          "execution_count": 12
        }
      ]
    },
    {
      "cell_type": "code",
      "source": [
        "#the prediction as you see has 10 scores , each score is the propability of each neuron in the outputlayer \n",
        "y_test_pred = model_1.predict(X_test_flattened)\n",
        "y_test_pred[0]\n",
        "\n",
        "\n"
      ],
      "metadata": {
        "colab": {
          "base_uri": "https://localhost:8080/"
        },
        "id": "1ah7S6rJgvzl",
        "outputId": "7ce0df18-2753-4139-f5a1-6c4b4a0adf32"
      },
      "execution_count": 8,
      "outputs": [
        {
          "output_type": "stream",
          "name": "stdout",
          "text": [
            "313/313 [==============================] - 1s 2ms/step\n"
          ]
        },
        {
          "output_type": "execute_result",
          "data": {
            "text/plain": [
              "array([2.0808069e-14, 4.0620397e-04, 8.4697604e-05, 1.4634768e-04,\n",
              "       2.0165444e-07, 3.4419645e-06, 4.7604684e-19, 9.9935895e-01,\n",
              "       4.2858761e-09, 1.2810312e-07], dtype=float32)"
            ]
          },
          "metadata": {},
          "execution_count": 8
        }
      ]
    },
    {
      "cell_type": "code",
      "source": [
        "#           VERY IMPORTANT\n",
        "\n",
        "# here i converted the propabilities produces by each neuron into thier respective class predictions \n",
        "\n",
        "\n",
        "\n",
        "\n",
        "y_predicted_labels = [np.argmax(i) for i in y_test_pred]\n",
        "y_predicted_labels[:5]"
      ],
      "metadata": {
        "colab": {
          "base_uri": "https://localhost:8080/"
        },
        "id": "G3ukiB7-pPW0",
        "outputId": "9bf4eede-bb08-477a-fef9-3ae57e37d1bf"
      },
      "execution_count": 9,
      "outputs": [
        {
          "output_type": "execute_result",
          "data": {
            "text/plain": [
              "[7, 2, 1, 0, 4]"
            ]
          },
          "metadata": {},
          "execution_count": 9
        }
      ]
    },
    {
      "cell_type": "code",
      "source": [
        "cm = tf.math.confusion_matrix(labels=y_test,predictions=y_predicted_labels)\n",
        "cm"
      ],
      "metadata": {
        "colab": {
          "base_uri": "https://localhost:8080/"
        },
        "id": "h9YwCqqwpW19",
        "outputId": "b9de681e-d7b3-4282-9fb1-4a9f71ce404e"
      },
      "execution_count": 10,
      "outputs": [
        {
          "output_type": "execute_result",
          "data": {
            "text/plain": [
              "<tf.Tensor: shape=(10, 10), dtype=int32, numpy=\n",
              "array([[ 968,    0,    0,    1,    0,    3,    3,    2,    2,    1],\n",
              "       [   0, 1118,    4,    3,    1,    2,    2,    0,    5,    0],\n",
              "       [  12,    5,  968,    7,   12,    1,    2,   10,   14,    1],\n",
              "       [   1,    0,    8,  970,    2,    2,    0,    6,   16,    5],\n",
              "       [   2,    2,    5,    0,  936,    0,    9,    1,    5,   22],\n",
              "       [   4,    0,    1,   45,    2,  818,    7,    2,    6,    7],\n",
              "       [  10,    3,    1,    0,   15,    4,  917,    0,    8,    0],\n",
              "       [   2,    7,   15,    7,    5,    0,    0,  983,    0,    9],\n",
              "       [  12,    2,    6,   12,    6,   15,    3,    3,  909,    6],\n",
              "       [   6,    5,    1,   10,   23,    3,    0,   10,    5,  946]],\n",
              "      dtype=int32)>"
            ]
          },
          "metadata": {},
          "execution_count": 10
        }
      ]
    },
    {
      "cell_type": "code",
      "source": [
        "import seaborn as sn\n",
        "plt.figure(figsize = (10,7))\n",
        "sn.heatmap(cm, annot=True, fmt='d')\n",
        "plt.xlabel('Predicted')\n",
        "plt.ylabel('Truth')"
      ],
      "metadata": {
        "colab": {
          "base_uri": "https://localhost:8080/",
          "height": 460
        },
        "id": "CzGJJfZbqSDA",
        "outputId": "3d45c95a-1709-4dc9-fc21-771b69f71c51"
      },
      "execution_count": 11,
      "outputs": [
        {
          "output_type": "execute_result",
          "data": {
            "text/plain": [
              "Text(69.0, 0.5, 'Truth')"
            ]
          },
          "metadata": {},
          "execution_count": 11
        },
        {
          "output_type": "display_data",
          "data": {
            "text/plain": [
              "<Figure size 720x504 with 2 Axes>"
            ],
            "image/png": "[encoded data removed]"
          },
          "metadata": {
            "needs_background": "light"
          }
        }
      ]
    },
    {
      "cell_type": "code",
      "source": [
        "###############################################################################33"
      ],
      "metadata": {
        "id": "mcVVe-tPqVu1"
      },
      "execution_count": 13,
      "outputs": []
    },
    {
      "cell_type": "code",
      "source": [
        "# THIS IS THE RIGHT WAY TO DO IT OR THE BETTER WAY , WHY ? BECAUSE I HAVE PREPROCESSED THE IMAGES BEFORE BUILDING THE MODEL"
      ],
      "metadata": {
        "id": "LpU2OwR0tJlX"
      },
      "execution_count": 15,
      "outputs": []
    },
    {
      "cell_type": "code",
      "source": [
        "\n",
        "# Load the data\n",
        "(X_train, y_train), (X_test, y_test) = tf.keras.datasets.mnist.load_data()\n",
        "\n",
        "# Preprocess the data\n",
        "X_train = X_train.reshape(-1, 28 * 28) / 255.0\n",
        "X_test = X_test.reshape(-1, 28 * 28) / 255.0\n",
        "\n",
        "# One-hot encode the target labels\n",
        "y_train = tf.keras.utils.to_categorical(y_train, 10)\n",
        "y_test = tf.keras.utils.to_categorical(y_test, 10)\n",
        "\n",
        "\n"
      ],
      "metadata": {
        "id": "F-ILSyhttgZA"
      },
      "execution_count": 18,
      "outputs": []
    },
    {
      "cell_type": "code",
      "source": [
        "# Build the model\n",
        "\n",
        "model = tf.keras.models.Sequential([\n",
        "    tf.keras.layers.Dense(128, activation=\"relu\", input_shape=(28 * 28,)),\n",
        "    tf.keras.layers.Dense(64, activation=\"relu\"),\n",
        "    tf.keras.layers.Dense(10, activation=\"softmax\")\n",
        "])\n",
        "\n",
        "# Compile the model\n",
        "model.compile(optimizer=\"adam\", loss=\"categorical_crossentropy\", metrics=[\"accuracy\"])\n",
        "\n",
        "# Train the model\n",
        "history = model.fit(X_train, y_train, epochs=10, batch_size=32, validation_data=(X_test, y_test))\n",
        "\n",
        "# Evaluate the model\n",
        "test_loss, test_acc = model.evaluate(X_test, y_test)\n",
        "print(\"Test accuracy:\", test_acc)"
      ],
      "metadata": {
        "colab": {
          "base_uri": "https://localhost:8080/"
        },
        "id": "TbCfs5Pdu71F",
        "outputId": "2016845a-325c-4bbe-f477-4e0adfcac054"
      },
      "execution_count": 19,
      "outputs": [
        {
          "output_type": "stream",
          "name": "stdout",
          "text": [
            "Epoch 1/10\n",
            "1875/1875 [==============================] - 13s 6ms/step - loss: 0.2488 - accuracy: 0.9268 - val_loss: 0.1346 - val_accuracy: 0.9612\n",
            "Epoch 2/10\n",
            "1875/1875 [==============================] - 8s 4ms/step - loss: 0.1068 - accuracy: 0.9676 - val_loss: 0.1070 - val_accuracy: 0.9658\n",
            "Epoch 3/10\n",
            "1875/1875 [==============================] - 7s 4ms/step - loss: 0.0741 - accuracy: 0.9771 - val_loss: 0.0865 - val_accuracy: 0.9740\n",
            "Epoch 4/10\n",
            "1875/1875 [==============================] - 9s 5ms/step - loss: 0.0548 - accuracy: 0.9826 - val_loss: 0.0779 - val_accuracy: 0.9769\n",
            "Epoch 5/10\n",
            "1875/1875 [==============================] - 7s 4ms/step - loss: 0.0431 - accuracy: 0.9866 - val_loss: 0.0708 - val_accuracy: 0.9786\n",
            "Epoch 6/10\n",
            "1875/1875 [==============================] - 9s 5ms/step - loss: 0.0346 - accuracy: 0.9890 - val_loss: 0.0822 - val_accuracy: 0.9778\n",
            "Epoch 7/10\n",
            "1875/1875 [==============================] - 8s 4ms/step - loss: 0.0281 - accuracy: 0.9905 - val_loss: 0.0780 - val_accuracy: 0.9787\n",
            "Epoch 8/10\n",
            "1875/1875 [==============================] - 7s 4ms/step - loss: 0.0244 - accuracy: 0.9916 - val_loss: 0.0886 - val_accuracy: 0.9764\n",
            "Epoch 9/10\n",
            "1875/1875 [==============================] - 8s 4ms/step - loss: 0.0210 - accuracy: 0.9928 - val_loss: 0.0809 - val_accuracy: 0.9781\n",
            "Epoch 10/10\n",
            "1875/1875 [==============================] - 7s 4ms/step - loss: 0.0170 - accuracy: 0.9943 - val_loss: 0.1025 - val_accuracy: 0.9748\n",
            "313/313 [==============================] - 1s 2ms/step - loss: 0.1025 - accuracy: 0.9748\n",
            "Test accuracy: 0.9747999906539917\n"
          ]
        }
      ]
    },
    {
      "cell_type": "code",
      "source": [
        "model.evaluate(X_test ,y_test )"
      ],
      "metadata": {
        "colab": {
          "base_uri": "https://localhost:8080/"
        },
        "id": "FJeNJtBdvZrV",
        "outputId": "97a62535-b872-4899-c050-de363fc9b81c"
      },
      "execution_count": 20,
      "outputs": [
        {
          "output_type": "stream",
          "name": "stdout",
          "text": [
            "313/313 [==============================] - 1s 3ms/step - loss: 0.1025 - accuracy: 0.9748\n"
          ]
        },
        {
          "output_type": "execute_result",
          "data": {
            "text/plain": [
              "[0.102524533867836, 0.9747999906539917]"
            ]
          },
          "metadata": {},
          "execution_count": 20
        }
      ]
    },
    {
      "cell_type": "code",
      "source": [
        "y_test_pred2 = model.predict(X_test)\n",
        "y_test_pred2[0]"
      ],
      "metadata": {
        "colab": {
          "base_uri": "https://localhost:8080/"
        },
        "id": "axgk3E2swmeN",
        "outputId": "722d4366-fbe8-4441-9c6e-8818cb1bf2cd"
      },
      "execution_count": 22,
      "outputs": [
        {
          "output_type": "stream",
          "name": "stdout",
          "text": [
            "313/313 [==============================] - 1s 2ms/step\n"
          ]
        },
        {
          "output_type": "execute_result",
          "data": {
            "text/plain": [
              "array([4.2481429e-10, 3.0552971e-10, 3.4551275e-09, 3.0058749e-07,\n",
              "       1.1581279e-14, 5.5848427e-11, 3.7514954e-15, 9.9999958e-01,\n",
              "       2.4357812e-12, 3.1897038e-09], dtype=float32)"
            ]
          },
          "metadata": {},
          "execution_count": 22
        }
      ]
    },
    {
      "cell_type": "code",
      "source": [
        "\n",
        "\n",
        "y_predicted_labels = [np.argmax(i) for i in y_test_pred2]\n",
        "y_predicted_labels[:5]"
      ],
      "metadata": {
        "colab": {
          "base_uri": "https://localhost:8080/"
        },
        "id": "xLbAQDE7wySD",
        "outputId": "844c7b83-1887-4458-9222-109e40b727d1"
      },
      "execution_count": 25,
      "outputs": [
        {
          "output_type": "execute_result",
          "data": {
            "text/plain": [
              "[7, 2, 1, 0, 4]"
            ]
          },
          "metadata": {},
          "execution_count": 25
        }
      ]
    },
    {
      "cell_type": "code",
      "source": [],
      "metadata": {
        "id": "O4Ve47G4yXp0"
      },
      "execution_count": 26,
      "outputs": []
    }
  ]
}